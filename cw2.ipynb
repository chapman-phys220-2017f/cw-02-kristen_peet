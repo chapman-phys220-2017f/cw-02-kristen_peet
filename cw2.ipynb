{
 "cells": [
  {
   "cell_type": "markdown",
   "metadata": {
    "collapsed": false
   },
   "source": [
    "# CW 2\n",
    "Kristen Peet"
   ]
  },
  {
   "cell_type": "markdown",
   "metadata": {
    "collapsed": false
   },
   "source": [
    "#COORD.PY\n",
    "\n",
    "(a) Create a function coord_for(n, a=0, b=1) that takes three parameters: n is the integer number of intervals, a is the interval left endpoint, and b is the interval right endpoint. Note that the endpoints a and b are keyword parameters with default values of 0 and 1, respectively. To generate the coordinates, start with an empty list, then use a for loop and append each equally spaced x coordinate to the list. Return the completed list.\n",
    "\n",
    "(b) Create a function coord_while(n, a=0, b=1) that does the same thing as in (a), but uses a while loop instead of a for loop\n",
    "\n",
    "(c) Create a function coord_comp(n, a=0, b=1) that does the same thing as in (a), but uses a list comprehension instead of a for loop.\n"
   ]
  },
  {
   "cell_type": "code",
   "execution_count": 0,
   "metadata": {
    "collapsed": true
   },
   "outputs": [
   ],
   "source": [
    "def coord_for(n, a, b):\n",
    "    h=(b-a)/n\n",
    "    for_list = []\n",
    "    for i in range (n+1):\n",
    "        list.append(a+i*h)\n",
    "    return list\n",
    "\n",
    "def coord_while(n, a, b):\n",
    "    h=(b-a)/n\n",
    "    while_list = []\n",
    "    while ((a+i) <= b):\n",
    "        while_list.append(a)\n",
    "        a = a+h\n",
    "    return while_list\n",
    "\n",
    "def coord_comp(n, a, b):\n",
    "    h=(b-a)/n\n",
    "    comp_list = [(a+(i*h)) for i in range (n+1)]\n",
    "    return comp_list\n",
    "\n",
    "\n",
    "if _name_ == \"_main_\":\n",
    "    n = (input(\"interval number: \")\n",
    "    a = (input(\"lower bound: \")\n",
    "    b = (input(\"upper bound: \")\n",
    "    for_list = coord_for(n, a, b)\n",
    "    while_list = coord_while(n, a, b)\n",
    "    comp_list = coord_comp(n, a, b)\n",
    "    print(\"for loop: \", for_list)\n",
    "    print(\"while loop: \", while_list)\n",
    "    print(\"list comprehension: \", comp_list)"
   ]
  },
  {
   "cell_type": "markdown",
   "metadata": {
    "collapsed": false
   },
   "source": [
    "#FIBS.PY\n",
    "\n",
    "(a) Create a function fibs(n) that takes one positive integer parameter n and returns a list of the first n Fibonacci numbers.\n",
    "\n",
    "(b) Create a function fib_generator() that returns a generator (i.e., using the yield keyword instead of return) for the next Fibonacci number, starting with the number . Done correctly, the following code should return the list [1,1,2,3,5]\n"
   ]
  },
  {
   "cell_type": "code",
   "execution_count": 0,
   "metadata": {
    "collapsed": true
   },
   "outputs": [
   ],
   "source": [
    "def fibonacci(n):\n",
    "    fib_list = []\n",
    "    a=0\n",
    "    b=1\n",
    "    while n > 0:\n",
    "        fib_list.append(b)\n",
    "        a, b = b, a+b\n",
    "        n = n-1\n",
    "        return (fib_list)\n",
    "\n",
    "\n",
    "def fibs_generator():\n",
    "    a, b = 0, 1\n",
    "    while True:\n",
    "        yield b\n",
    "        a, b = b, a+b\n",
    "\n",
    "\n",
    "if __name__ == \"__main__\":\n",
    "    n = input(\"n value: \")\n",
    "    print(fibonacci(n))\n",
    "    g = fibs_generator()\n",
    "    fibs_list = [next(g) for _ in range(5)]\n",
    "    print(fibslist)"
   ]
  },
  {
   "cell_type": "markdown",
   "metadata": {
    "collapsed": false
   },
   "source": [
    "#CONVERGE.PY\n",
    "\n",
    "(a) Create a function compute_sum(tol=1e-2) that returns the value of the sum. The keyword parameter tol specifies a tolerance. Stop the summation when the next term of the sum would be smaller than this tolerance.\n",
    "\n",
    "(b) Show to what value does the sum converges as you let the tolerance become smaller and smaller. \n"
   ]
  },
  {
   "cell_type": "code",
   "execution_count": 3,
   "metadata": {
    "collapsed": false,
    "scrolled": true
   },
   "outputs": [
    {
     "name": "stdout",
     "output_type": "stream",
     "text": [
      "('If tol is 1e-2, sum converges at', 1)\n",
      "('If tol is 1e-10, sum converges at', 1)\n"
     ]
    }
   ],
   "source": [
    "\n",
    "def compute_sum(tol):\n",
    "    k = 1\n",
    "    conv_sum = 0\n",
    "    term = (1/k**2)\n",
    "    while tol < term:\n",
    "        term = (1/k**2)\n",
    "        conv_sum += term\n",
    "        k += 1\n",
    "        return conv_sum\n",
    "\n",
    "if __name__==\"__main__\":\n",
    "    convergence = compute_sum(tol=1e-2)\n",
    "    print(\"If tol is 1e-2, sum converges at\", convergence)\n",
    "    smaller_tol = (compute_sum(tol=1e-10))\n",
    "    print(\"If tol is 1e-10, sum converges at\", smaller_tol)"
   ]
  }
 ],
 "metadata": {
  "kernelspec": {
   "display_name": "Python 2 (SageMath)",
   "language": "python",
   "name": "python2"
  },
  "language_info": {
   "codemirror_mode": {
    "name": "ipython",
    "version": 2
   },
   "file_extension": ".py",
   "mimetype": "text/x-python",
   "name": "python",
   "nbconvert_exporter": "python",
   "pygments_lexer": "ipython2",
   "version": "2.7.13"
  }
 },
 "nbformat": 4,
 "nbformat_minor": 0
}